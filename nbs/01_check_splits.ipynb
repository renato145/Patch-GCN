{
 "cells": [
  {
   "cell_type": "code",
   "execution_count": 1,
   "metadata": {},
   "outputs": [],
   "source": [
    "import pandas as pd\n",
    "from fastcore.all import *"
   ]
  },
  {
   "cell_type": "markdown",
   "metadata": {},
   "source": [
    "# IDs to download"
   ]
  },
  {
   "cell_type": "code",
   "execution_count": 2,
   "metadata": {},
   "outputs": [
    {
     "data": {
      "text/plain": [
       "(437, 3072)"
      ]
     },
     "execution_count": 2,
     "metadata": {},
     "output_type": "execute_result"
    }
   ],
   "source": [
    "df = pd.read_csv('../dataset_csv/tcga_blca_all_clean.csv.zip')\n",
    "df.shape"
   ]
  },
  {
   "cell_type": "code",
   "execution_count": 3,
   "metadata": {},
   "outputs": [
    {
     "data": {
      "text/html": [
       "<div>\n",
       "<style scoped>\n",
       "    .dataframe tbody tr th:only-of-type {\n",
       "        vertical-align: middle;\n",
       "    }\n",
       "\n",
       "    .dataframe tbody tr th {\n",
       "        vertical-align: top;\n",
       "    }\n",
       "\n",
       "    .dataframe thead th {\n",
       "        text-align: right;\n",
       "    }\n",
       "</style>\n",
       "<table border=\"1\" class=\"dataframe\">\n",
       "  <thead>\n",
       "    <tr style=\"text-align: right;\">\n",
       "      <th></th>\n",
       "      <th>id</th>\n",
       "      <th>filename</th>\n",
       "      <th>md5</th>\n",
       "      <th>size</th>\n",
       "      <th>state</th>\n",
       "    </tr>\n",
       "  </thead>\n",
       "  <tbody>\n",
       "    <tr>\n",
       "      <th>8</th>\n",
       "      <td>80f522c8-62ad-4b73-bef9-809bc26defab</td>\n",
       "      <td>TCGA-FD-A6TE-01Z-00-DX1.1CD738A0-1D6D-461B-932...</td>\n",
       "      <td>4f5e6a65dcfe8d764123e06312066aa6</td>\n",
       "      <td>2221470055</td>\n",
       "      <td>released</td>\n",
       "    </tr>\n",
       "    <tr>\n",
       "      <th>31</th>\n",
       "      <td>78dd90eb-551f-4e06-adae-78d0c11312e8</td>\n",
       "      <td>TCGA-CF-A7I0-01Z-00-DX1.9920A024-B523-4CB6-992...</td>\n",
       "      <td>6f43d6d02daa402006291c81d513b6fc</td>\n",
       "      <td>872434627</td>\n",
       "      <td>released</td>\n",
       "    </tr>\n",
       "  </tbody>\n",
       "</table>\n",
       "</div>"
      ],
      "text/plain": [
       "                                      id  \\\n",
       "8   80f522c8-62ad-4b73-bef9-809bc26defab   \n",
       "31  78dd90eb-551f-4e06-adae-78d0c11312e8   \n",
       "\n",
       "                                             filename  \\\n",
       "8   TCGA-FD-A6TE-01Z-00-DX1.1CD738A0-1D6D-461B-932...   \n",
       "31  TCGA-CF-A7I0-01Z-00-DX1.9920A024-B523-4CB6-992...   \n",
       "\n",
       "                                 md5        size     state  \n",
       "8   4f5e6a65dcfe8d764123e06312066aa6  2221470055  released  \n",
       "31  6f43d6d02daa402006291c81d513b6fc   872434627  released  "
      ]
     },
     "execution_count": 3,
     "metadata": {},
     "output_type": "execute_result"
    }
   ],
   "source": [
    "manifest = pd.read_csv('../manifest_files/manifest_blca.txt', sep='\\t')\n",
    "manifest = manifest[manifest.filename.isin(df.slide_id)]\n",
    "test_eq(manifest.filename.nunique(), df.slide_id.nunique())\n",
    "manifest.head(2)"
   ]
  },
  {
   "cell_type": "code",
   "execution_count": 4,
   "metadata": {},
   "outputs": [],
   "source": [
    "manifest.to_csv('../download_manifest/manifest_blca.txt', sep='\\t', index=False)"
   ]
  },
  {
   "cell_type": "code",
   "execution_count": null,
   "metadata": {},
   "outputs": [],
   "source": []
  },
  {
   "cell_type": "code",
   "execution_count": null,
   "metadata": {},
   "outputs": [],
   "source": []
  }
 ],
 "metadata": {
  "interpreter": {
   "hash": "f0e5e1a31c779e4bf773fc6c1aaf9199a84e22c8d0a05c04b3da2d54f5565ed2"
  },
  "kernelspec": {
   "display_name": "Python 3 (ipykernel)",
   "language": "python",
   "name": "python3"
  },
  "language_info": {
   "codemirror_mode": {
    "name": "ipython",
    "version": 3
   },
   "file_extension": ".py",
   "mimetype": "text/x-python",
   "name": "python",
   "nbconvert_exporter": "python",
   "pygments_lexer": "ipython3",
   "version": "3.8.11"
  },
  "toc": {
   "base_numbering": 1,
   "nav_menu": {},
   "number_sections": true,
   "sideBar": true,
   "skip_h1_title": false,
   "title_cell": "Table of Contents",
   "title_sidebar": "Contents",
   "toc_cell": false,
   "toc_position": {},
   "toc_section_display": true,
   "toc_window_display": false
  }
 },
 "nbformat": 4,
 "nbformat_minor": 2
}
